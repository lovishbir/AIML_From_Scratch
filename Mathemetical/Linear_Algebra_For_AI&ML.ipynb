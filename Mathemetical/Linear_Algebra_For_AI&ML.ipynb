{
 "cells": [
  {
   "cell_type": "markdown",
   "id": "9780cfad",
   "metadata": {},
   "source": [
    "# Vectors and Operations\n",
    "\n",
    "#### Vector is an Ordered list of numbers, often represented as a numpy array in Python"
   ]
  },
  {
   "cell_type": "code",
   "execution_count": 1,
   "id": "88e5d846",
   "metadata": {},
   "outputs": [
    {
     "name": "stdout",
     "output_type": "stream",
     "text": [
      "Addition: [4 6]\n",
      "Dot Product: 11\n",
      "Magnitude of v1: 5.0\n"
     ]
    }
   ],
   "source": [
    "import numpy as np\n",
    "\n",
    "# Define vectors\n",
    "v1 = np.array([3, 4])\n",
    "v2 = np.array([1, 2])\n",
    "\n",
    "# Vector Addition\n",
    "print(\"Addition:\", v1 + v2)  \n",
    "\n",
    "# Vector Dot Product\n",
    "dot_product = np.dot(v1, v2)\n",
    "print(\"Dot Product:\", dot_product)\n",
    "\n",
    "# Vector Magnitude\n",
    "magnitude = np.linalg.norm(v1)\n",
    "print(\"Magnitude of v1:\", magnitude)"
   ]
  },
  {
   "cell_type": "markdown",
   "id": "c9f39d02",
   "metadata": {},
   "source": []
  }
 ],
 "metadata": {
  "kernelspec": {
   "display_name": "Python 3",
   "language": "python",
   "name": "python3"
  },
  "language_info": {
   "codemirror_mode": {
    "name": "ipython",
    "version": 3
   },
   "file_extension": ".py",
   "mimetype": "text/x-python",
   "name": "python",
   "nbconvert_exporter": "python",
   "pygments_lexer": "ipython3",
   "version": "3.11.9"
  }
 },
 "nbformat": 4,
 "nbformat_minor": 5
}
