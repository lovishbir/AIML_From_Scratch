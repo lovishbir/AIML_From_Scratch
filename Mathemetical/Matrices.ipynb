{
 "cells": [
  {
   "cell_type": "markdown",
   "metadata": {},
   "source": [
    "# Matrices\n",
    "\n",
    "#### Matrices are absolutely fundamental to the workings of AI and Machine Learning, providing a structured and efficient way to handle and manipulate large volumes of data\n",
    "\n",
    "#### This code covers creating matrices, performing element-wise and matrix multiplication, and transposing matrices."
   ]
  },
  {
   "cell_type": "code",
   "execution_count": 1,
   "metadata": {},
   "outputs": [
    {
     "name": "stdout",
     "output_type": "stream",
     "text": [
      "Matrix A:\n",
      " [[1 2]\n",
      " [3 4]]\n",
      "Matrix B:\n",
      " [[5 6]\n",
      " [7 8]]\n",
      "A + B (Element-wise Addition):\n",
      " [[ 6  8]\n",
      " [10 12]]\n",
      "A - B (Element-wise Subtraction):\n",
      " [[-4 -4]\n",
      " [-4 -4]]\n",
      "A dot B (Matrix Multiplication):\n",
      " [[19 22]\n",
      " [43 50]]\n",
      "Transpose of A:\n",
      " [[1 3]\n",
      " [2 4]]\n"
     ]
    }
   ],
   "source": [
    "import numpy as np  # Import NumPy for matrix operations\n",
    "\n",
    "# Create two 2x2 matrices\n",
    "A = np.array([[1, 2], \n",
    "              [3, 4]])\n",
    "\n",
    "B = np.array([[5, 6], \n",
    "              [7, 8]])\n",
    "\n",
    "# Element-wise addition: Adds corresponding elements of A and B\n",
    "mat_add = A + B  \n",
    "# Result: [[1+5, 2+6], \n",
    "#          [3+7, 4+8]]\n",
    "\n",
    "# Element-wise subtraction: Subtracts corresponding elements of B from A\n",
    "mat_sub = A - B  \n",
    "# Result: [[1-5, 2-6], \n",
    "#          [3-7, 4-8]]\n",
    "\n",
    "# Matrix multiplication (dot product): Computes A * B using matrix multiplication rules\n",
    "mat_mult = np.dot(A, B)  \n",
    "# Result: [[(1*5 + 2*7), (1*6 + 2*8)], \n",
    "#          [(3*5 + 4*7), (3*6 + 4*8)]]\n",
    "\n",
    "# Transpose of matrix A: Flips rows and columns\n",
    "A_transpose = np.transpose(A)  \n",
    "# Result: [[1, 3], \n",
    "#          [2, 4]]\n",
    "\n",
    "# Print results\n",
    "print(\"Matrix A:\\n\", A)\n",
    "print(\"Matrix B:\\n\", B)\n",
    "print(\"A + B (Element-wise Addition):\\n\", mat_add)\n",
    "print(\"A - B (Element-wise Subtraction):\\n\", mat_sub)\n",
    "print(\"A dot B (Matrix Multiplication):\\n\", mat_mult)\n",
    "print(\"Transpose of A:\\n\", A_transpose)"
   ]
  },
  {
   "cell_type": "code",
   "execution_count": null,
   "metadata": {},
   "outputs": [],
   "source": []
  }
 ],
 "metadata": {
  "kernelspec": {
   "display_name": "Python 3",
   "language": "python",
   "name": "python3"
  },
  "language_info": {
   "codemirror_mode": {
    "name": "ipython",
    "version": 3
   },
   "file_extension": ".py",
   "mimetype": "text/x-python",
   "name": "python",
   "nbconvert_exporter": "python",
   "pygments_lexer": "ipython3",
   "version": "3.11.9"
  }
 },
 "nbformat": 4,
 "nbformat_minor": 2
}
