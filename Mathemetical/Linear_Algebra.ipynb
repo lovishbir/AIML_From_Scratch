{
 "cells": [
  {
   "cell_type": "markdown",
   "id": "9780cfad",
   "metadata": {},
   "source": [
    "# Vectors and Operations\n",
    "\n",
    "#### Vector is an Ordered list of numbers, often represented as a numpy array in Python\n",
    "#### This code demonstrates how to create vectors, perform basic operations (addition, subtraction, dot product), and calculate the norm."
   ]
  },
  {
   "cell_type": "code",
   "execution_count": 1,
   "id": "88e5d846",
   "metadata": {},
   "outputs": [
    {
     "name": "stdout",
     "output_type": "stream",
     "text": [
      "Vector v1: [1 2 3]\n",
      "Vector v2: [4 5 6]\n",
      "Addition of v1 and v2: [5 7 9]\n",
      "Subtraction of v1 and v2: [-3 -3 -3]\n",
      "Dot product of v1 and v2: 32\n",
      "Norm (magnitude) of v1: 3.7416573867739413\n",
      "Norm (magnitude) of v2: 8.774964387392123\n"
     ]
    }
   ],
   "source": [
    "import numpy as np  # Import the NumPy library for numerical operations\n",
    "\n",
    "# Create two vectors (1D NumPy arrays)\n",
    "v1 = np.array([1, 2, 3])\n",
    "v2 = np.array([4, 5, 6])\n",
    "\n",
    "# Vector addition: Element-wise sum of v1 and v2\n",
    "addition = v1 + v2  \n",
    "\n",
    "# Vector subtraction: Element-wise difference between v1 and v2\n",
    "subtraction = v1 - v2  \n",
    "\n",
    "# Dot product: Computes the sum of element-wise multiplication (1*4 + 2*5 + 3*6)\n",
    "dot_product = np.dot(v1, v2)  \n",
    "\n",
    "# Norm (magnitude) of vectors: ||v|| = sqrt(x1^2 + x2^2 + x3^2)\n",
    "norm_v1 = np.linalg.norm(v1)  # Magnitude of v1\n",
    "norm_v2 = np.linalg.norm(v2)  # Magnitude of v2\n",
    "\n",
    "# Print results\n",
    "print(\"Vector v1:\", v1)\n",
    "print(\"Vector v2:\", v2)\n",
    "print(\"Addition of v1 and v2:\", addition)\n",
    "print(\"Subtraction of v1 and v2:\", subtraction)\n",
    "print(\"Dot product of v1 and v2:\", dot_product)\n",
    "print(\"Norm (magnitude) of v1:\", norm_v1)\n",
    "print(\"Norm (magnitude) of v2:\", norm_v2)"
   ]
  },
  {
   "cell_type": "markdown",
   "id": "c9f39d02",
   "metadata": {},
   "source": []
  }
 ],
 "metadata": {
  "kernelspec": {
   "display_name": "Python 3",
   "language": "python",
   "name": "python3"
  },
  "language_info": {
   "codemirror_mode": {
    "name": "ipython",
    "version": 3
   },
   "file_extension": ".py",
   "mimetype": "text/x-python",
   "name": "python",
   "nbconvert_exporter": "python",
   "pygments_lexer": "ipython3",
   "version": "3.11.9"
  }
 },
 "nbformat": 4,
 "nbformat_minor": 5
}
