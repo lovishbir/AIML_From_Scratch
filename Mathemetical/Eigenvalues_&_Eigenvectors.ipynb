{
 "cells": [
  {
   "cell_type": "markdown",
   "metadata": {},
   "source": [
    "# Eigenvalues & Eigenvectors \n",
    "\n",
    "#### Eigenvalues and eigenvectors are crucial in various applications like PCA (Principal Component Analysis), image compression, and stability analysis in dynamic systems."
   ]
  },
  {
   "cell_type": "code",
   "execution_count": 1,
   "metadata": {},
   "outputs": [
    {
     "name": "stdout",
     "output_type": "stream",
     "text": [
      "Matrix M:\n",
      " [[2 1]\n",
      " [1 2]]\n",
      "\n",
      "Eigenvalues:\n",
      " [3. 1.]\n",
      "\n",
      "Eigenvectors:\n",
      " [[ 0.70710678 -0.70710678]\n",
      " [ 0.70710678  0.70710678]]\n"
     ]
    }
   ],
   "source": [
    "import numpy as np  # Import NumPy for numerical operations\n",
    "\n",
    "# Defining a 2x2 symmetric matrix\n",
    "M = np.array([[2, 1], \n",
    "              [1, 2]])\n",
    "\n",
    "# Compute eigenvalues and eigenvectors using NumPy's `linalg.eig()` function\n",
    "eigenvalues, eigenvectors = np.linalg.eig(M)\n",
    "\n",
    "# Display the original matrix\n",
    "print(\"Matrix M:\\n\", M)\n",
    "\n",
    "# Display the computed eigenvalues\n",
    "print(\"\\nEigenvalues:\\n\", eigenvalues)  \n",
    "# Eigenvalues are the scalars that indicate how much the eigenvectors are stretched or shrunk.\n",
    "\n",
    "# Display the computed eigenvectors\n",
    "print(\"\\nEigenvectors:\\n\", eigenvectors)  \n",
    "# Eigenvectors are the special vectors that do not change direction when transformed by matrix M."
   ]
  },
  {
   "cell_type": "code",
   "execution_count": null,
   "metadata": {},
   "outputs": [],
   "source": []
  }
 ],
 "metadata": {
  "kernelspec": {
   "display_name": "Python 3",
   "language": "python",
   "name": "python3"
  },
  "language_info": {
   "codemirror_mode": {
    "name": "ipython",
    "version": 3
   },
   "file_extension": ".py",
   "mimetype": "text/x-python",
   "name": "python",
   "nbconvert_exporter": "python",
   "pygments_lexer": "ipython3",
   "version": "3.11.9"
  }
 },
 "nbformat": 4,
 "nbformat_minor": 2
}
