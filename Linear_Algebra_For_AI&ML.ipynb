{
 "cells": [
  {
   "cell_type": "markdown",
   "id": "e6188961-cfb2-49b1-8502-d33cd65fac4b",
   "metadata": {},
   "source": [
    "# Vectors and Operations\n",
    "\n",
    "#### Vector is an Ordered list of numbers, often represented as a numpy array in Python"
   ]
  },
  {
   "cell_type": "code",
   "execution_count": 3,
   "id": "784fe421-2dc0-4b10-aefc-16dd6a17910b",
   "metadata": {},
   "outputs": [
    {
     "name": "stdout",
     "output_type": "stream",
     "text": [
      "Addition: [4 6]\n",
      "Dot Product: 11\n",
      "Magnitude of v1: 5.0\n"
     ]
    }
   ],
   "source": [
    "import numpy as np\n",
    "\n",
    "# Define vectors\n",
    "v1 = np.array([3, 4])\n",
    "v2 = np.array([1, 2])\n",
    "\n",
    "# Vector Addition\n",
    "print(\"Addition:\", v1 + v2)  \n",
    "\n",
    "# Vector Dot Product\n",
    "dot_product = np.dot(v1, v2)\n",
    "print(\"Dot Product:\", dot_product)\n",
    "\n",
    "# Vector Magnitude\n",
    "magnitude = np.linalg.norm(v1)\n",
    "print(\"Magnitude of v1:\", magnitude)"
   ]
  },
  {
   "cell_type": "code",
   "execution_count": null,
   "id": "d3b59bf6-3c86-4171-835f-0346ba1d8f50",
   "metadata": {},
   "outputs": [],
   "source": []
  }
 ],
 "metadata": {
  "kernelspec": {
   "display_name": "Python 3",
   "language": "python",
   "name": "python3"
  },
  "language_info": {
   "codemirror_mode": {
    "name": "ipython",
    "version": 3
   },
   "file_extension": ".py",
   "mimetype": "text/x-python",
   "name": "python",
   "nbconvert_exporter": "python",
   "pygments_lexer": "ipython3",
   "version": "3.11.9"
  }
 },
 "nbformat": 4,
 "nbformat_minor": 5
}
